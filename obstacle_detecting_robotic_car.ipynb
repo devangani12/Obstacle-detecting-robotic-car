{
  "nbformat": 4,
  "nbformat_minor": 0,
  "metadata": {
    "colab": {
      "provenance": [],
      "authorship_tag": "ABX9TyNWP6JJhyWJq3hJSLgf0Q/k",
      "include_colab_link": true
    },
    "kernelspec": {
      "name": "python3",
      "display_name": "Python 3"
    },
    "language_info": {
      "name": "python"
    }
  },
  "cells": [
    {
      "cell_type": "markdown",
      "metadata": {
        "id": "view-in-github",
        "colab_type": "text"
      },
      "source": [
        "<a href=\"https://colab.research.google.com/github/devangani12/Obstacle-detecting-robotic-car/blob/main/obstacle_detecting_robotic_car.ipynb\" target=\"_parent\"><img src=\"https://colab.research.google.com/assets/colab-badge.svg\" alt=\"Open In Colab\"/></a>"
      ]
    },
    {
      "cell_type": "code",
      "execution_count": null,
      "metadata": {
        "id": "ZBl95wpEzDa6"
      },
      "outputs": [],
      "source": [
        "// Motor Pins for L298 Motor Driver\n",
        "int motorPin1 = 8;  // IN1 (Motor 1)\n",
        "int motorPin2 = 9;  // IN2 (Motor 1)\n",
        "int motorPin3 = 10; // IN3 (Motor 2)\n",
        "int motorPin4 = 11; // IN4 (Motor 2)\n",
        "\n",
        "// Ultrasonic Sensor Pins\n",
        "int trigPin = 6;\n",
        "int echoPin = 7;\n",
        "\n",
        "// Variables for distance measurement\n",
        "long duration;\n",
        "int distance;\n",
        "\n",
        "void setup() {\n",
        "  // Set motor pins as OUTPUT\n",
        "  pinMode(motorPin1, OUTPUT);\n",
        "  pinMode(motorPin2, OUTPUT);\n",
        "  pinMode(motorPin3, OUTPUT);\n",
        "  pinMode(motorPin4, OUTPUT);\n",
        "\n",
        "  // Set ultrasonic sensor pins\n",
        "  pinMode(trigPin, OUTPUT);\n",
        "  pinMode(echoPin, INPUT);\n",
        "\n",
        "  // Start serial communication\n",
        "  Serial.begin(9600);\n",
        "}\n",
        "\n",
        "void loop() {\n",
        "  // Send a pulse to the TRIG pin to trigger the ultrasonic sensor\n",
        "  digitalWrite(trigPin, LOW);\n",
        "  delayMicroseconds(2);\n",
        "  digitalWrite(trigPin, HIGH);\n",
        "  delayMicroseconds(10);\n",
        "  digitalWrite(trigPin, LOW);\n",
        "\n",
        "  // Measure the duration of the echo pulse\n",
        "  duration = pulseIn(echoPin, HIGH);\n",
        "\n",
        "  // Calculate distance based on the speed of sound (343 m/s)\n",
        "  distance = duration * 0.0344 / 2;\n",
        "\n",
        "  // Display distance for debugging\n",
        "  Serial.print(\"Distance: \");\n",
        "  Serial.println(distance);\n",
        "\n",
        "  // If an obstacle is detected (distance < threshold), stop the motors\n",
        "  if (distance < 12) { // Adjust threshold as needed\n",
        "    stopMotors();\n",
        "    Serial.println(\"Obstacle detected! Motors stopped.\");\n",
        "  } else {\n",
        "    moveForward();\n",
        "    Serial.println(\"Moving forward...\");\n",
        "  }\n",
        "\n",
        "  delay(500); // Delay for stability\n",
        "}\n",
        "\n",
        "void moveForward() {\n",
        "  // Move Motor 1 and Motor 2 forward\n",
        "  digitalWrite(motorPin1, HIGH);\n",
        "  digitalWrite(motorPin2, LOW);\n",
        "  digitalWrite(motorPin3, HIGH);\n",
        "  digitalWrite(motorPin4, LOW);\n",
        "\n",
        "  // Assuming Motors 3 and 4 are connected in parallel to the L298's second channel\n",
        "  // Move Motor 3 and Motor 4 forward\n",
        "  digitalWrite(motorPin1, HIGH);  // Motor 3\n",
        "  digitalWrite(motorPin2, LOW);   // Motor 3\n",
        "  digitalWrite(motorPin3, HIGH);  // Motor 4\n",
        "  digitalWrite(motorPin4, LOW);   // Motor 4\n",
        "}\n",
        "\n",
        "void stopMotors() {\n",
        "  // Stop all motors\n",
        "  digitalWrite(motorPin1, LOW);\n",
        "  digitalWrite(motorPin2, LOW);\n",
        "  digitalWrite(motorPin3, LOW);\n",
        "  digitalWrite(motorPin4, LOW);\n",
        "}"
      ]
    }
  ]
}